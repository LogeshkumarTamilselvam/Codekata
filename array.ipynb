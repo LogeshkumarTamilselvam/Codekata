{
  "nbformat": 4,
  "nbformat_minor": 0,
  "metadata": {
    "colab": {
      "provenance": [],
      "authorship_tag": "ABX9TyOQM7kH4VDx1ZY6Q/qAMoUh",
      "include_colab_link": true
    },
    "kernelspec": {
      "name": "python3",
      "display_name": "Python 3"
    },
    "language_info": {
      "name": "python"
    }
  },
  "cells": [
    {
      "cell_type": "markdown",
      "metadata": {
        "id": "view-in-github",
        "colab_type": "text"
      },
      "source": [
        "<a href=\"https://colab.research.google.com/github/LogeshkumarTamilselvam/Codekata/blob/main/array.ipynb\" target=\"_parent\"><img src=\"https://colab.research.google.com/assets/colab-badge.svg\" alt=\"Open In Colab\"/></a>"
      ]
    },
    {
      "cell_type": "markdown",
      "source": [
        "#1"
      ],
      "metadata": {
        "id": "kXTTDsEz7Xh1"
      }
    },
    {
      "cell_type": "code",
      "execution_count": null,
      "metadata": {
        "colab": {
          "base_uri": "https://localhost:8080/"
        },
        "id": "nktzZttwx5PU",
        "outputId": "3d2c75ad-16f8-4c24-fe3c-c15fe31f990a"
      },
      "outputs": [
        {
          "output_type": "stream",
          "name": "stdout",
          "text": [
            "1331\n",
            "11\n"
          ]
        }
      ],
      "source": [
        "def find_next_smallest(arr):\n",
        "    result = []\n",
        "\n",
        "    for i in range(len(arr)):\n",
        "        next_smallest = -1\n",
        "\n",
        "        for j in range(i+1, len(arr)):\n",
        "            if arr[j] < arr[i]:\n",
        "                next_smallest = arr[j]\n",
        "                break\n",
        "\n",
        "        result.append(next_smallest)\n",
        "\n",
        "    return result\n",
        "\n",
        "\n",
        "# Reading input\n",
        "n = int(input())\n",
        "arr = list(map(int, input().split()))\n",
        "\n",
        "# Finding next smallest numbers\n",
        "output = find_next_smallest(arr)\n",
        "\n",
        "# Printing the output\n",
        "print(*output)\n"
      ]
    },
    {
      "cell_type": "markdown",
      "source": [
        "#2"
      ],
      "metadata": {
        "id": "SNbs749V7e5Z"
      }
    },
    {
      "cell_type": "code",
      "source": [
        "def is_beautiful_array(arr):\n",
        "    array_sum = sum(arr)\n",
        "\n",
        "    if array_sum % 2 == 0 and array_sum % 3 == 0 and array_sum % 5 == 0:\n",
        "        return 1\n",
        "    else:\n",
        "        return 0\n",
        "\n",
        "\n",
        "# Reading input\n",
        "n = int(input())\n",
        "arr = list(map(int, input().split()))\n",
        "\n",
        "# Checking if array is beautiful\n",
        "output = is_beautiful_array(arr)\n",
        "\n",
        "# Printing the output\n",
        "print(output)\n"
      ],
      "metadata": {
        "colab": {
          "base_uri": "https://localhost:8080/"
        },
        "id": "LtYeHzUrx_Ez",
        "outputId": "6d15d58c-4711-4ee6-ee93-386edd8eb427"
      },
      "execution_count": null,
      "outputs": [
        {
          "output_type": "stream",
          "name": "stdout",
          "text": [
            "7\n",
            "10 7 9 3 2 1 15\n",
            "-1 -1 7 -1 -1 -1 1\n"
          ]
        }
      ]
    },
    {
      "cell_type": "markdown",
      "source": [
        "#3"
      ],
      "metadata": {
        "id": "g4O4rQkr7nM_"
      }
    },
    {
      "cell_type": "code",
      "source": [
        "def compute_trapped_air(arr):\n",
        "    n = len(arr)\n",
        "    left_max = [0] * n\n",
        "    right_max = [0] * n\n",
        "\n",
        "    # Calculate the maximum heights on the left side of each element\n",
        "    left_max[0] = arr[0]\n",
        "    for i in range(1, n):\n",
        "        left_max[i] = max(left_max[i-1], arr[i])\n",
        "\n",
        "    # Calculate the maximum heights on the right side of each element\n",
        "    right_max[n-1] = arr[n-1]\n",
        "    for i in range(n-2, -1, -1):\n",
        "        right_max[i] = max(right_max[i+1], arr[i])\n",
        "\n",
        "    # Compute the trapped air\n",
        "    trapped_air = 0\n",
        "    for i in range(n):\n",
        "        trapped_air += min(left_max[i], right_max[i]) - arr[i]\n",
        "\n",
        "    return trapped_air\n",
        "\n",
        "\n",
        "# Reading input\n",
        "n = int(input())\n",
        "arr = list(map(int, input().split()))\n",
        "\n",
        "# Computing trapped air\n",
        "output = compute_trapped_air(arr)\n",
        "\n",
        "# Printing the output\n",
        "print(output)\n"
      ],
      "metadata": {
        "id": "Zkl8L78r7lpa"
      },
      "execution_count": null,
      "outputs": []
    },
    {
      "cell_type": "markdown",
      "source": [
        "#4"
      ],
      "metadata": {
        "id": "ndioNt-B7KnB"
      }
    },
    {
      "cell_type": "code",
      "source": [
        "def calculate_difference(arr, k):\n",
        "    n = len(arr)\n",
        "    result = []\n",
        "\n",
        "    for i in range(n):\n",
        "        diff = abs(arr[i] - arr[(i+1) % n])\n",
        "        if diff > k:\n",
        "            result.append(1)\n",
        "        else:\n",
        "            result.append(0)\n",
        "\n",
        "    return result\n",
        "\n",
        "\n",
        "# Reading input\n",
        "n, k = map(int, input().split())\n",
        "arr = list(map(int, input().split()))\n",
        "\n",
        "# Calculating the difference and checking if it's greater than k\n",
        "output = calculate_difference(arr, k)\n",
        "\n",
        "# Printing the output\n",
        "print(*output)"
      ],
      "metadata": {
        "colab": {
          "base_uri": "https://localhost:8080/"
        },
        "id": "NOKnx5cCzQDZ",
        "outputId": "0e0250d1-9d32-4568-c40e-7064639a9e29"
      },
      "execution_count": null,
      "outputs": [
        {
          "output_type": "stream",
          "name": "stdout",
          "text": [
            "5 15\n",
            "50 65 85 98 35\n",
            "0 1 0 1 0\n"
          ]
        }
      ]
    },
    {
      "cell_type": "markdown",
      "source": [
        "#5"
      ],
      "metadata": {
        "id": "L4Sw0hc08DO4"
      }
    },
    {
      "cell_type": "code",
      "source": [
        "# Reading input\n",
        "n = int(input())\n",
        "passport_list = input().split()\n",
        "\n",
        "# Removing duplicates while maintaining order\n",
        "unique_passports = []\n",
        "seen = set()\n",
        "\n",
        "for passport in passport_list:\n",
        "    if passport not in seen:\n",
        "        unique_passports.append(passport)\n",
        "        seen.add(passport)\n",
        "\n",
        "# Printing the output\n",
        "print(*unique_passports)\n"
      ],
      "metadata": {
        "colab": {
          "base_uri": "https://localhost:8080/"
        },
        "id": "Kue4DpNPzfOj",
        "outputId": "892c4f32-37fe-44d5-d9c0-4beedc041890"
      },
      "execution_count": null,
      "outputs": [
        {
          "output_type": "stream",
          "name": "stdout",
          "text": [
            "5\n",
            "A23 B56 B56 C79 D16\n",
            "A23 C79 D16 B56\n"
          ]
        }
      ]
    },
    {
      "cell_type": "code",
      "source": [
        "def merge_arrays(arr1, arr2):\n",
        "    # Sort the first array in ascending order\n",
        "    arr1.sort()\n",
        "\n",
        "    # Sort the second array in descending order\n",
        "    arr2.sort(reverse=True)\n",
        "\n",
        "    # Concatenate the two sorted arrays\n",
        "    merged_array = arr1 + arr2\n",
        "\n",
        "    return merged_array\n",
        "\n",
        "\n",
        "# Read the lengths of the arrays\n",
        "n, m = map(int, input().split())\n",
        "\n",
        "# Read the elements of the first array\n",
        "array1 = list(map(int, input().split()))\n",
        "\n",
        "# Read the elements of the second array\n",
        "array2 = list(map(int, input().split()))\n",
        "\n",
        "# Merge the arrays in the desired order\n",
        "result = merge_arrays(array1, array2)\n",
        "\n",
        "# Print the merged array\n",
        "for num in result:\n",
        "    print(num, end=\" \")\n"
      ],
      "metadata": {
        "id": "DVl78f1I8FIi",
        "colab": {
          "base_uri": "https://localhost:8080/"
        },
        "outputId": "7b2caee1-e103-49f7-a906-a15712ca40bf"
      },
      "execution_count": null,
      "outputs": [
        {
          "output_type": "stream",
          "name": "stdout",
          "text": [
            "3 3\n",
            "23 15 16\n",
            "357 65 10\n",
            "15 16 23 357 65 10 "
          ]
        }
      ]
    },
    {
      "cell_type": "code",
      "source": [
        "from collections import deque\n",
        "\n",
        "def find_first_negative(arr, k):\n",
        "    result = []  # Store the first negative integers for each window\n",
        "    queue = deque()  # Queue to store the indices of negative numbers\n",
        "\n",
        "    for i, num in enumerate(arr):\n",
        "        if num < 0:\n",
        "            queue.append(i)\n",
        "\n",
        "        if i >= k and queue and queue[0] <= i - k:\n",
        "            queue.popleft()\n",
        "\n",
        "        if i + 1 >= k:\n",
        "            if queue:\n",
        "                result.append(arr[queue[0]])\n",
        "            else:\n",
        "                result.append(0)\n",
        "\n",
        "    return result\n",
        "\n",
        "\n",
        "# Read the size of the array\n",
        "n = int(input())\n",
        "\n",
        "# Read the elements of the array\n",
        "array = list(map(int, input().split()))\n",
        "\n",
        "# Read the window size\n",
        "k = int(input())\n",
        "\n",
        "# Find the first negative integers for each window\n",
        "output = find_first_negative(array, k)\n",
        "\n",
        "# Print the result\n",
        "for num in output:\n",
        "    print(num, end=\" \")\n"
      ],
      "metadata": {
        "colab": {
          "base_uri": "https://localhost:8080/"
        },
        "id": "KnvNeMt43oOw",
        "outputId": "af511fc7-8b7a-427e-ed17-dd853454cfc1"
      },
      "execution_count": null,
      "outputs": [
        {
          "output_type": "stream",
          "name": "stdout",
          "text": [
            "7\n",
            "1 -2 -3 -4 5 6 -7\n",
            "3\n",
            "-2 -2 -3 -4 -7 "
          ]
        }
      ]
    },
    {
      "cell_type": "code",
      "source": [
        "# Read the values of N and K\n",
        "N, K = map(int, input().split())\n",
        "\n",
        "# Read the elements of the list\n",
        "elements = list(map(int, input().split()))\n",
        "\n",
        "# Check if K exists in the list\n",
        "if K in elements:\n",
        "    print(\"yes\")\n",
        "else:\n",
        "    print(\"no\")\n"
      ],
      "metadata": {
        "colab": {
          "base_uri": "https://localhost:8080/"
        },
        "id": "BCH0dVGm5Um3",
        "outputId": "3f7c2674-9516-4f01-fc6d-30cdbf30a49c"
      },
      "execution_count": null,
      "outputs": [
        {
          "output_type": "stream",
          "name": "stdout",
          "text": [
            "4 2\n",
            "1 2 3 3\n",
            "yes\n"
          ]
        }
      ]
    },
    {
      "cell_type": "code",
      "source": [
        "# Read the value of n\n",
        "n = int(input())\n",
        "\n",
        "# Read the elements of the array\n",
        "numbers = list(map(int, input().split()))\n",
        "\n",
        "# Find the index of the largest number\n",
        "max_index = numbers.index(max(numbers))\n",
        "\n",
        "# Find the index of the smallest number\n",
        "min_index = numbers.index(min(numbers))\n",
        "\n",
        "# Calculate the difference between the indices\n",
        "difference = max_index - min_index\n",
        "\n",
        "# Print the difference\n",
        "print(difference)\n"
      ],
      "metadata": {
        "colab": {
          "base_uri": "https://localhost:8080/"
        },
        "id": "gQxvTm989GwJ",
        "outputId": "d9fd9f99-37e1-49e4-be44-f1cbcf9d80ac"
      },
      "execution_count": null,
      "outputs": [
        {
          "output_type": "stream",
          "name": "stdout",
          "text": [
            "5\n",
            "1 6 4 0 3\n",
            "-2\n"
          ]
        }
      ]
    },
    {
      "cell_type": "code",
      "source": [
        "# Read the number of elements\n",
        "n = int(input())\n",
        "\n",
        "# Read the elements into an array\n",
        "elements = list(map(int, input().split()))\n",
        "\n",
        "# Initialize the minimum value to the first element\n",
        "min_value = elements[0]\n",
        "\n",
        "# Iterate through the remaining elements\n",
        "for i in range(1, n):\n",
        "    # Compare the current element with the minimum value\n",
        "    if elements[i] < min_value:\n",
        "        min_value = elements[i]\n",
        "\n",
        "# Print the minimum value\n",
        "print(min_value)\n"
      ],
      "metadata": {
        "colab": {
          "base_uri": "https://localhost:8080/"
        },
        "id": "IHxTcYuLB1B0",
        "outputId": "71395b5d-af0e-4247-e793-da5289ed4f62"
      },
      "execution_count": null,
      "outputs": [
        {
          "output_type": "stream",
          "name": "stdout",
          "text": [
            "5\n",
            "3 4 9 1 6\n",
            "1\n"
          ]
        }
      ]
    },
    {
      "cell_type": "code",
      "source": [
        "import numpy as np\n",
        "\n",
        "# Read the dimensions of the matrix\n",
        "m, n = map(int, input().split())\n",
        "\n",
        "# Read the elements of the matrix into a 2D list\n",
        "matrix = []\n",
        "for _ in range(m):\n",
        "    row = list(map(int, input().split()))\n",
        "    matrix.append(row)\n",
        "\n",
        "# Flatten the 2D list into a 1D list\n",
        "flattened = np.array(matrix).flatten()\n",
        "\n",
        "# Sort the flattened list in ascending order\n",
        "sorted_list = np.sort(flattened)\n",
        "\n",
        "# Reshape the sorted list into a 2D matrix\n",
        "sorted_matrix = sorted_list.reshape((m, n))\n",
        "\n",
        "# Print the sorted matrix\n",
        "for row in sorted_matrix:\n",
        "    for num in row:\n",
        "        print(num, end=\" \")\n",
        "    print()"
      ],
      "metadata": {
        "colab": {
          "base_uri": "https://localhost:8080/"
        },
        "id": "JS6ILKWpFj1Z",
        "outputId": "737bbc11-c395-4464-bfa2-df1ac71b8a1c"
      },
      "execution_count": null,
      "outputs": [
        {
          "output_type": "stream",
          "name": "stdout",
          "text": [
            "3 3\n",
            "87 21 34\n",
            "89 32 78\n",
            "12 23  45\n",
            "12 21 23 \n",
            "32 34 45 \n",
            "78 87 89 \n"
          ]
        }
      ]
    },
    {
      "cell_type": "code",
      "source": [
        "# Read the number of students and Ramesh's mark\n",
        "num_students, ramesh_mark = map(int, input().split())\n",
        "\n",
        "# Read the marks of all students in the class\n",
        "student_marks = list(map(int, input().split()))\n",
        "\n",
        "# Iterate through the list of marks\n",
        "for i, mark in enumerate(student_marks):\n",
        "    # Compare each mark with Ramesh's mark\n",
        "    if mark == ramesh_mark:\n",
        "        # If a match is found, print the index of the student\n",
        "        print(i)\n",
        "        break\n",
        "else:\n",
        "    # If no match is found, print -1\n",
        "    print(-1)\n"
      ],
      "metadata": {
        "colab": {
          "base_uri": "https://localhost:8080/"
        },
        "id": "66etSALSKl9c",
        "outputId": "c7a1de6d-91d9-4bb9-b964-aa546974d57c"
      },
      "execution_count": null,
      "outputs": [
        {
          "output_type": "stream",
          "name": "stdout",
          "text": [
            "2 10\n",
            "1 2\n",
            "-1\n"
          ]
        }
      ]
    },
    {
      "cell_type": "code",
      "source": [
        "S = input()\n",
        "length = len(S)\n",
        "\n",
        "if length % 2 == 0:\n",
        "    mid = length // 2\n",
        "    modified_string = S[:mid-1] + '*'*2 + S[mid+1:]\n",
        "else:\n",
        "    mid = length // 2\n",
        "    modified_string = S[:mid] + '*' + S[mid+1:]\n",
        "\n",
        "print(modified_string)\n"
      ],
      "metadata": {
        "colab": {
          "base_uri": "https://localhost:8080/"
        },
        "id": "xzpZHm1bLnXb",
        "outputId": "e44f105d-a6ae-4b83-b22f-b1040c0aa901"
      },
      "execution_count": null,
      "outputs": [
        {
          "output_type": "stream",
          "name": "stdout",
          "text": [
            "hello\n",
            "he*lo\n"
          ]
        }
      ]
    },
    {
      "cell_type": "code",
      "source": [
        "# Read the size of the array\n",
        "n = int(input())\n",
        "\n",
        "# Read the numbers of the array\n",
        "numbers = list(map(int, input().split()))\n",
        "\n",
        "# Create a dictionary to store the count of each number\n",
        "count_dict = {}\n",
        "\n",
        "# Count the occurrences of each number\n",
        "for num in numbers:\n",
        "    count_dict[num] = count_dict.get(num, 0) + 1\n",
        "\n",
        "# Find the minimum count\n",
        "min_count = min(count_dict.values())\n",
        "\n",
        "# Create a list to store the least occurring element(s)\n",
        "least_occurring = []\n",
        "\n",
        "# Iterate over the count_dict and add numbers with the minimum count to least_occurring\n",
        "for num, count in count_dict.items():\n",
        "    if count == min_count:\n",
        "        least_occurring.append(num)\n",
        "\n",
        "# Sort the least_occurring list in decreasing order\n",
        "least_occurring.sort(reverse=True)\n",
        "\n",
        "# Print the least occurring elements\n",
        "for num in least_occurring:\n",
        "    print(num, end=\" \")\n"
      ],
      "metadata": {
        "colab": {
          "base_uri": "https://localhost:8080/"
        },
        "id": "mBkh2Xm_MtU9",
        "outputId": "60cf12d6-3cb3-4a0c-aa3d-a46e037af250"
      },
      "execution_count": null,
      "outputs": [
        {
          "output_type": "stream",
          "name": "stdout",
          "text": [
            "9\n",
            "1 6 4 56 56 56 6 4 2\n",
            "2 1 "
          ]
        }
      ]
    },
    {
      "cell_type": "code",
      "source": [
        "def test_memory(numbers, questions):\n",
        "    occurrence = {}\n",
        "    for number in numbers:\n",
        "        if number in occurrence:\n",
        "            occurrence[number] += 1\n",
        "        else:\n",
        "            occurrence[number] = 1\n",
        "\n",
        "    results = []\n",
        "    for question in questions:\n",
        "        if question in occurrence:\n",
        "            results.append(str(occurrence[question]))\n",
        "        else:\n",
        "            results.append(\"Not Present\")\n",
        "\n",
        "    return results\n",
        "\n",
        "# Read input\n",
        "test_cases = int(input())\n",
        "numbers = list(map(int, input().split()))\n",
        "num_questions = int(input())\n",
        "questions = list(map(int, input().split()))\n",
        "\n",
        "# Test memory\n",
        "results = test_memory(numbers, questions)\n",
        "\n",
        "# Print the results\n",
        "print(' '.join(results))\n"
      ],
      "metadata": {
        "id": "-y9YhEK_PrLg",
        "colab": {
          "base_uri": "https://localhost:8080/"
        },
        "outputId": "fc26d427-1c41-49da-ec64-e0c4a6df47d5"
      },
      "execution_count": null,
      "outputs": [
        {
          "output_type": "stream",
          "name": "stdout",
          "text": [
            "10\n",
            "1 1 1 2 2 2 3 8 9 7\n",
            "5\n",
            "1 2 3 0 5\n",
            "3 3 1 Not Present Not Present\n"
          ]
        }
      ]
    },
    {
      "cell_type": "code",
      "source": [
        "import numpy as np\n",
        "\n",
        "# Read input\n",
        "m, n = map(int, input().split())\n",
        "matrix = []\n",
        "for _ in range(m):\n",
        "    row = list(map(int, input().split()))\n",
        "    matrix.append(row)\n",
        "\n",
        "# Flatten the matrix into a 1D array\n",
        "flat_array = np.array(matrix).flatten()\n",
        "\n",
        "# Sort the array\n",
        "sorted_array = np.sort(flat_array)\n",
        "\n",
        "# Reshape the sorted array back into a matrix\n",
        "sorted_matrix = sorted_array.reshape((m, n))\n",
        "\n",
        "# Print the sorted matrix\n",
        "for row in sorted_matrix:\n",
        "    print(' '.join(map(str, row)))\n"
      ],
      "metadata": {
        "colab": {
          "base_uri": "https://localhost:8080/"
        },
        "id": "OpdFl-s3OTBA",
        "outputId": "a58358f3-f72a-483a-f35b-e2dfd3b54687"
      },
      "execution_count": null,
      "outputs": [
        {
          "output_type": "stream",
          "name": "stdout",
          "text": [
            "3 3\n",
            "87 21 34\n",
            "89 32 78\n",
            "12 23 45\n",
            "12 21 23\n",
            "32 34 45\n",
            "78 87 89\n"
          ]
        }
      ]
    },
    {
      "cell_type": "code",
      "source": [
        "def rearrange_numbers(n, arr):\n",
        "    for i in range(n):\n",
        "        # Move the current element to its correct position\n",
        "        while arr[i] != i:\n",
        "            j = arr[i]\n",
        "            arr[i], arr[j] = arr[j], arr[i]\n",
        "\n",
        "    return arr\n",
        "\n",
        "# Read input\n",
        "n = int(input())\n",
        "arr = list(map(int, input().split()))\n",
        "\n",
        "# Rearrange the numbers\n",
        "result = rearrange_numbers(n, arr)\n",
        "\n",
        "# Print the rearranged numbers\n",
        "print(' '.join(map(str, result)))"
      ],
      "metadata": {
        "colab": {
          "base_uri": "https://localhost:8080/"
        },
        "id": "Mhjij4ooOu9n",
        "outputId": "0756616c-ea4b-44f6-bc87-2763cdc4bca2"
      },
      "execution_count": null,
      "outputs": [
        {
          "output_type": "stream",
          "name": "stdout",
          "text": [
            "5\n",
            "4 0 2 1 3\n",
            "0 1 2 3 4\n"
          ]
        }
      ]
    },
    {
      "cell_type": "code",
      "source": [
        "# Read input\n",
        "N = int(input())\n",
        "strings = input().split()\n",
        "\n",
        "# Sort the strings in alphabetical order\n",
        "sorted_strings = sorted(strings)\n",
        "\n",
        "# Print the sorted strings\n",
        "print(' '.join(sorted_strings))"
      ],
      "metadata": {
        "colab": {
          "base_uri": "https://localhost:8080/"
        },
        "id": "hePgZftNPW-i",
        "outputId": "b9654067-c281-4059-cfd9-e14ed18069b4"
      },
      "execution_count": null,
      "outputs": [
        {
          "output_type": "stream",
          "name": "stdout",
          "text": [
            "3\n",
            "InfinityWar EndGame Avengers\n",
            "Avengers EndGame InfinityWar\n"
          ]
        }
      ]
    },
    {
      "cell_type": "code",
      "source": [
        "# Read input\n",
        "n = int(input())\n",
        "arr = list(map(int, input().split()))\n",
        "\n",
        "# Check if the array is majestic\n",
        "if sum(arr[:3]) == sum(arr[-3:]):\n",
        "    print(1)\n",
        "else:\n",
        "    print(0)"
      ],
      "metadata": {
        "colab": {
          "base_uri": "https://localhost:8080/"
        },
        "id": "UwEZqN1DRuCb",
        "outputId": "41497e2c-b1ae-445d-d08e-ad60fdc2a5ac"
      },
      "execution_count": null,
      "outputs": [
        {
          "output_type": "stream",
          "name": "stdout",
          "text": [
            "7\n",
            "1 2 3 4 6 0 0\n",
            "1\n"
          ]
        }
      ]
    },
    {
      "cell_type": "code",
      "source": [
        "# Read input\n",
        "n = int(input())\n",
        "\n",
        "# Initial savings\n",
        "savings = [1000, 1000]\n",
        "\n",
        "# Calculate savings for each month\n",
        "for i in range(2, n+1):\n",
        "    # Savings for the current month is the sum of savings in the previous two months\n",
        "    current_savings = savings[i-1] + savings[i-2]\n",
        "    savings.append(current_savings)\n",
        "\n",
        "# Print the total savings at the end of 'n' months\n",
        "total_savings = sum(savings)\n",
        "print(total_savings)"
      ],
      "metadata": {
        "colab": {
          "base_uri": "https://localhost:8080/"
        },
        "id": "SXXMDLlQSiPM",
        "outputId": "1a5e6af6-2081-4107-91c0-d9c4846d1a19"
      },
      "execution_count": null,
      "outputs": [
        {
          "output_type": "stream",
          "name": "stdout",
          "text": [
            "1\n",
            "2000\n"
          ]
        }
      ]
    },
    {
      "cell_type": "code",
      "source": [
        "def find_least_occuring_elements(arr):\n",
        "    count = {}\n",
        "    for num in arr:\n",
        "        if num in count:\n",
        "            count[num] += 1\n",
        "        else:\n",
        "            count[num] = 1\n",
        "\n",
        "    min_count = min(count.values())\n",
        "    least_occuring = [num for num, cnt in count.items() if cnt == min_count]\n",
        "    least_occuring.sort(reverse=True)\n",
        "\n",
        "    return least_occuring\n",
        "\n",
        "# Read input\n",
        "n = int(input())\n",
        "arr = list(map(int, input().split()))\n",
        "\n",
        "# Find least occurring elements\n",
        "result = find_least_occuring_elements(arr)\n",
        "\n",
        "# Print the least occurring elements\n",
        "print(' '.join(map(str, result)))\n"
      ],
      "metadata": {
        "colab": {
          "base_uri": "https://localhost:8080/"
        },
        "id": "R4EeQQFnT19L",
        "outputId": "489ab844-f4ef-47fd-a6b7-5b184dc140ed"
      },
      "execution_count": null,
      "outputs": [
        {
          "output_type": "stream",
          "name": "stdout",
          "text": [
            "9\n",
            "1 6 4 56 56 56 6 4 2\n",
            "2 1\n"
          ]
        }
      ]
    },
    {
      "cell_type": "code",
      "source": [
        "def find_first_zero_indices(arr, k):\n",
        "    indices = []\n",
        "    for i in range(len(arr) - k + 1):\n",
        "        window = arr[i:i+k]\n",
        "        if 0 in window:\n",
        "            zero_index = window.index(0)\n",
        "            indices.append(i + zero_index + 1)\n",
        "        else:\n",
        "            indices.append(-1)\n",
        "    return indices\n",
        "\n",
        "# Read input\n",
        "n, k = map(int, input().split())\n",
        "arr = list(map(int, input().split()))\n",
        "\n",
        "# Find the first zero indices\n",
        "result = find_first_zero_indices(arr, k)\n",
        "\n",
        "# Print the indices\n",
        "print(' '.join(map(str, result)))\n"
      ],
      "metadata": {
        "colab": {
          "base_uri": "https://localhost:8080/"
        },
        "id": "v4Hy6pUvVcZz",
        "outputId": "da77f2cc-d804-4b9f-c5ed-4007baecd437"
      },
      "execution_count": null,
      "outputs": [
        {
          "output_type": "stream",
          "name": "stdout",
          "text": [
            "7 2\n",
            "1 0 6 7 4 0 9\n",
            "2 2 -1 -1 6 6\n"
          ]
        }
      ]
    },
    {
      "cell_type": "code",
      "source": [
        "# Read input\n",
        "N = int(input())\n",
        "A = list(map(int, input().split()))\n",
        "B = list(map(int, input().split()))\n",
        "\n",
        "# Initialize pointers\n",
        "i = 0\n",
        "j = 0\n",
        "\n",
        "# Find common elements\n",
        "common_elements = []\n",
        "while i < N and j < N:\n",
        "    if A[i] == B[j]:\n",
        "        common_elements.append(A[i])\n",
        "        i += 1\n",
        "        j += 1\n",
        "    elif A[i] < B[j]:\n",
        "        i += 1\n",
        "    else:\n",
        "        j += 1\n",
        "\n",
        "# Print the common elements\n",
        "if common_elements:\n",
        "    print(' '.join(map(str, common_elements)))\n",
        "else:\n",
        "    print(-1)"
      ],
      "metadata": {
        "colab": {
          "base_uri": "https://localhost:8080/"
        },
        "id": "1N_hvrCeYJ7j",
        "outputId": "30aab0d2-544e-4f5e-857d-1f87df389e70"
      },
      "execution_count": null,
      "outputs": [
        {
          "output_type": "stream",
          "name": "stdout",
          "text": [
            "5\n",
            "1 1 1 1 1\n",
            "1 2 3 4 5\n",
            "1\n"
          ]
        }
      ]
    },
    {
      "cell_type": "code",
      "source": [
        "# Read input\n",
        "N = int(input())\n",
        "\n",
        "# Convert the number to a string\n",
        "num_str = str(N)\n",
        "\n",
        "# Find the odd digits\n",
        "odd_digits = [char for char in num_str if int(char) % 2 != 0]\n",
        "\n",
        "# Print the odd digits or -1 if no odd digit is found\n",
        "if odd_digits:\n",
        "    print(' '.join(odd_digits))\n",
        "else:\n",
        "    print(-1)"
      ],
      "metadata": {
        "colab": {
          "base_uri": "https://localhost:8080/"
        },
        "id": "xPEUq6Ifbg-Y",
        "outputId": "05839c3b-e981-41be-bd9c-9f1076771f0d"
      },
      "execution_count": null,
      "outputs": [
        {
          "output_type": "stream",
          "name": "stdout",
          "text": [
            "2143\n",
            "1 3\n"
          ]
        }
      ]
    },
    {
      "cell_type": "code",
      "source": [
        "# Read input\n",
        "M, N = map(int, input().split())\n",
        "\n",
        "# Initialize counts\n",
        "ram_count = 0\n",
        "sita_count = 0\n",
        "\n",
        "# Iterate over the matrix and count occurrences\n",
        "for _ in range(M):\n",
        "    row = list(map(int, input().split()))\n",
        "    for num in row:\n",
        "        if num == 0:\n",
        "            ram_count += 1\n",
        "        elif num == 1:\n",
        "            sita_count += 1\n",
        "\n",
        "# Print the counts for Ram and Sita\n",
        "print(\"RAM:\", ram_count)\n",
        "print(\"SITA:\", sita_count)\n"
      ],
      "metadata": {
        "colab": {
          "base_uri": "https://localhost:8080/"
        },
        "id": "IltK6a0o7mSf",
        "outputId": "c950f610-95f7-48e7-d070-706b8dc8ac7d"
      },
      "execution_count": null,
      "outputs": [
        {
          "output_type": "stream",
          "name": "stdout",
          "text": [
            "1 3\n",
            "1 1 1\n",
            "RAM: 0\n",
            "SITA: 3\n"
          ]
        }
      ]
    },
    {
      "cell_type": "code",
      "source": [
        "# Read input\n",
        "A, B = map(int, input().split())\n",
        "\n",
        "# Calculate A^B\n",
        "result = A ** B\n",
        "\n",
        "# Print the result\n",
        "print(result)\n"
      ],
      "metadata": {
        "colab": {
          "base_uri": "https://localhost:8080/"
        },
        "id": "NmtGdKyZ8NG3",
        "outputId": "44910aa3-2f9a-4f66-f271-40a8cea65f27"
      },
      "execution_count": null,
      "outputs": [
        {
          "output_type": "stream",
          "name": "stdout",
          "text": [
            "3 4\n",
            "81\n"
          ]
        }
      ]
    },
    {
      "cell_type": "code",
      "source": [
        "# Read input\n",
        "n = int(input())\n",
        "marks = list(map(int, input().split()))\n",
        "\n",
        "# Find the highest marks\n",
        "highest_marks = max(marks)\n",
        "\n",
        "# Print the highest marks\n",
        "print(highest_marks)\n"
      ],
      "metadata": {
        "colab": {
          "base_uri": "https://localhost:8080/"
        },
        "id": "pnZCJ85T8iyS",
        "outputId": "dca90bab-3247-4753-eea8-3afcd383d863"
      },
      "execution_count": null,
      "outputs": [
        {
          "output_type": "stream",
          "name": "stdout",
          "text": [
            "3\n",
            "82 96 72\n",
            "96\n"
          ]
        }
      ]
    },
    {
      "cell_type": "code",
      "source": [
        "from datetime import datetime\n",
        "\n",
        "def is_eligible_dob(dob):\n",
        "    try:\n",
        "        date_obj = datetime.strptime(dob, \"%d %B %Y\")\n",
        "        if date_obj <= datetime(1987, 7, 22) and date_obj.day == 31:\n",
        "            return True\n",
        "    except ValueError:\n",
        "        pass\n",
        "    return False\n",
        "\n",
        "# Read input\n",
        "name = input()\n",
        "n = int(input())\n",
        "dob_list = input().split()\n",
        "\n",
        "# Find the eligible employees\n",
        "eligible_employees = [str(i+1) for i, dob in enumerate(dob_list) if is_eligible_dob(dob)]\n",
        "\n",
        "# Print the eligible employees' indices or -1 if there are no such employees\n",
        "if eligible_employees:\n",
        "    print(name + \": \" + ' '.join(eligible_employees))\n",
        "else:\n",
        "    print(name + \": -1\")"
      ],
      "metadata": {
        "colab": {
          "base_uri": "https://localhost:8080/"
        },
        "id": "OW7F61QGHUPk",
        "outputId": "d19249b6-4f6e-4df4-eeab-69d4df237e6d"
      },
      "execution_count": null,
      "outputs": [
        {
          "output_type": "stream",
          "name": "stdout",
          "text": [
            "Input\n",
            "4\n",
            "23 MARCH 1996 23 MARCH 1986 22 JULY 1987 23 APRIL 1987\n",
            "Input: -1\n"
          ]
        }
      ]
    },
    {
      "cell_type": "code",
      "source": [
        "def is_saturated_number(n):\n",
        "    # Convert the number to string\n",
        "    n_str = str(n)\n",
        "\n",
        "    # Count the unique digits in the number\n",
        "    digit_count = len(set(n_str))\n",
        "\n",
        "    # Check if the number is made by exactly two digits\n",
        "    if digit_count == 2:\n",
        "        return True\n",
        "    else:\n",
        "        return False\n",
        "\n",
        "# Read the number\n",
        "n = int(input())\n",
        "\n",
        "# Check if the number is saturated\n",
        "if is_saturated_number(n):\n",
        "    print(\"Saturated\")\n",
        "else:\n",
        "    print(\"Unsaturated\")"
      ],
      "metadata": {
        "id": "pmN1aTJGH_hI",
        "colab": {
          "base_uri": "https://localhost:8080/"
        },
        "outputId": "dca76095-0b7c-463b-990f-02787ff3096f"
      },
      "execution_count": null,
      "outputs": [
        {
          "output_type": "stream",
          "name": "stdout",
          "text": [
            "121\n",
            "Saturated\n"
          ]
        }
      ]
    },
    {
      "cell_type": "code",
      "source": [
        "# Read the input number\n",
        "n = int(input())\n",
        "\n",
        "# Check if the number is a multiple of 7\n",
        "if n % 7 == 0:\n",
        "    print(\"yes\")\n",
        "else:\n",
        "    print(\"no\")\n"
      ],
      "metadata": {
        "colab": {
          "base_uri": "https://localhost:8080/"
        },
        "id": "E_0LKHw1EW4H",
        "outputId": "99d8d41f-f6af-44de-b038-9307020565b6"
      },
      "execution_count": null,
      "outputs": [
        {
          "output_type": "stream",
          "name": "stdout",
          "text": [
            "49\n",
            "yes\n"
          ]
        }
      ]
    },
    {
      "cell_type": "code",
      "source": [
        "def is_pure_number(n):\n",
        "    digit_sum = sum(int(digit) for digit in str(n))\n",
        "    return digit_sum % 3 == 0\n",
        "\n",
        "# Read the input number\n",
        "n = int(input())\n",
        "\n",
        "# Check if the number is pure\n",
        "if is_pure_number(n):\n",
        "    print(\"yes\")\n",
        "else:\n",
        "    print(\"not\")\n"
      ],
      "metadata": {
        "colab": {
          "base_uri": "https://localhost:8080/"
        },
        "id": "jsNE_zcmFBrW",
        "outputId": "697748a7-d9c9-4cba-e9b0-fb34a03dbf3e"
      },
      "execution_count": null,
      "outputs": [
        {
          "output_type": "stream",
          "name": "stdout",
          "text": [
            "13\n",
            "not\n"
          ]
        }
      ]
    },
    {
      "cell_type": "code",
      "source": [
        "# Read the input numbers\n",
        "numbers = list(map(int, input().split()))\n",
        "\n",
        "# Find the minimum number\n",
        "minimum = min(numbers)\n",
        "\n",
        "# Print the minimum number\n",
        "print(minimum)\n"
      ],
      "metadata": {
        "colab": {
          "base_uri": "https://localhost:8080/"
        },
        "id": "-axeA2k3NUtL",
        "outputId": "3844c44e-8fbc-4f8a-f59c-a91bc6772934"
      },
      "execution_count": null,
      "outputs": [
        {
          "output_type": "stream",
          "name": "stdout",
          "text": [
            "5 4 3 2 1 7 6 10 8 9\n",
            "1\n"
          ]
        }
      ]
    },
    {
      "cell_type": "code",
      "source": [
        "def is_finest_number(n):\n",
        "    t = int((n // 2) ** (1/3))\n",
        "    return n == t ** 3 + (t + 1) ** 3\n",
        "\n",
        "# Read the number of elements and the array of numbers\n",
        "z = int(input())\n",
        "numbers = list(map(int, input().split()))\n",
        "\n",
        "# Find the finest numbers\n",
        "finest_numbers = []\n",
        "for n in numbers:\n",
        "    if is_finest_number(n):\n",
        "        finest_numbers.append(n)\n",
        "\n",
        "# Sort the finest numbers in ascending order\n",
        "finest_numbers.sort()\n",
        "\n",
        "# Print the finest numbers or -1 if there are none\n",
        "if finest_numbers:\n",
        "    print(\" \".join(map(str, finest_numbers)))\n",
        "else:\n",
        "    print(\"-1\")"
      ],
      "metadata": {
        "colab": {
          "base_uri": "https://localhost:8080/"
        },
        "id": "1yIh2gsHN_gc",
        "outputId": "06a156bf-c789-4ac7-f419-0accf16bc25d"
      },
      "execution_count": null,
      "outputs": [
        {
          "output_type": "stream",
          "name": "stdout",
          "text": [
            "2\n",
            "1729 189\n",
            "189 1729\n"
          ]
        }
      ]
    },
    {
      "cell_type": "code",
      "source": [
        "def find_gcd(a, b):\n",
        "    while b != 0:\n",
        "        a, b = b, a % b\n",
        "    return a\n",
        "\n",
        "def are_co_primes(n, m):\n",
        "    gcd = find_gcd(n, m)\n",
        "    if gcd == 1:\n",
        "        return 1\n",
        "    else:\n",
        "        return 0\n",
        "\n",
        "# Input from the user\n",
        "try:\n",
        "    n, m = map(int, input().split())\n",
        "    result = are_co_primes(n, m)\n",
        "    print(result)\n",
        "except ValueError:\n",
        "    print(\"Invalid input. Please enter two integers separated by space.\")\n"
      ],
      "metadata": {
        "id": "E8WyJuRuObRH",
        "colab": {
          "base_uri": "https://localhost:8080/"
        },
        "outputId": "59b70260-83c5-4966-e078-1ca8200f0110"
      },
      "execution_count": null,
      "outputs": [
        {
          "output_type": "stream",
          "name": "stdout",
          "text": [
            "3 5\n",
            "1\n"
          ]
        }
      ]
    },
    {
      "cell_type": "code",
      "source": [
        "def check_if_between(n, l, r):\n",
        "    if l <= n <= r:\n",
        "        return 'yes'\n",
        "    else:\n",
        "        return 'no'\n",
        "\n",
        "try:\n",
        "    n = int(input())\n",
        "    l, r = map(int, input().split())\n",
        "    result = check_if_between(n, l, r)\n",
        "    print(result)\n",
        "except ValueError:\n",
        "    print()\n"
      ],
      "metadata": {
        "colab": {
          "base_uri": "https://localhost:8080/"
        },
        "id": "tujKoFqQ-mEZ",
        "outputId": "1fbf22fc-2354-4baa-f5bd-139384e243b3"
      },
      "execution_count": null,
      "outputs": [
        {
          "output_type": "stream",
          "name": "stdout",
          "text": [
            "3\n",
            "2 6\n",
            "yes\n"
          ]
        }
      ]
    },
    {
      "cell_type": "code",
      "source": [
        "def count_pairs_with_sum(n):\n",
        "    count = 0\n",
        "    for a in range(1, n):\n",
        "        b = n - a\n",
        "        if b >= 1 and b < n:\n",
        "            count += 1\n",
        "    return count\n",
        "\n",
        "try:\n",
        "    n = int(input())\n",
        "    if n < 2:\n",
        "        raise ValueError()\n",
        "    result = count_pairs_with_sum(n)\n",
        "    print(result)\n",
        "except ValueError:\n",
        "    print()"
      ],
      "metadata": {
        "colab": {
          "base_uri": "https://localhost:8080/"
        },
        "id": "BmRbPx0LAdcS",
        "outputId": "6ac86ff5-8bdb-47ba-f941-7387ed5c719c"
      },
      "execution_count": null,
      "outputs": [
        {
          "output_type": "stream",
          "name": "stdout",
          "text": [
            "5\n",
            "4\n"
          ]
        }
      ]
    },
    {
      "cell_type": "code",
      "source": [
        "def is_palindrome(number):\n",
        "    return str(number) == str(number)[::-1]\n",
        "\n",
        "def count_palindromic_numbers(n):\n",
        "    count = 0\n",
        "    for num in range(1, n + 1):\n",
        "        if is_palindrome(num):\n",
        "            count += 1\n",
        "    return count\n",
        "\n",
        "try:\n",
        "    n = int(input())\n",
        "    result = count_palindromic_numbers(n)\n",
        "    print(result)\n",
        "except ValueError:\n",
        "    print(\"Invalid input. Please enter a valid number.\")\n"
      ],
      "metadata": {
        "colab": {
          "base_uri": "https://localhost:8080/"
        },
        "id": "g8jKDa9kD_dF",
        "outputId": "887d9096-5295-4fee-df91-c4d6712fd6d1"
      },
      "execution_count": null,
      "outputs": [
        {
          "output_type": "stream",
          "name": "stdout",
          "text": [
            "5\n",
            "5\n"
          ]
        }
      ]
    },
    {
      "cell_type": "code",
      "source": [
        "def find_minimum_element(numbers):\n",
        "    min_element = float('inf')  # Initialize min_element with a large value\n",
        "    for num in numbers:\n",
        "        if num < min_element:\n",
        "            min_element = num\n",
        "    return min_element\n",
        "\n",
        "try:\n",
        "    n = int(input(\"Enter the number of elements: \"))\n",
        "    numbers = list(map(int, input(\"Enter the elements separated by space: \").split()))\n",
        "    if len(numbers) != n:\n",
        "        raise ValueError()\n",
        "    result = find_minimum_element(numbers)\n",
        "    print(result)\n",
        "except ValueError:\n",
        "    print(\"Invalid input. Please enter a valid list of numbers.\")\n"
      ],
      "metadata": {
        "colab": {
          "base_uri": "https://localhost:8080/"
        },
        "id": "gX4NcS9aFonB",
        "outputId": "2e56a8fe-33c1-422f-e139-cd8885bf17b9"
      },
      "execution_count": null,
      "outputs": [
        {
          "output_type": "stream",
          "name": "stdout",
          "text": [
            "Enter the number of elements: 5\n",
            "Enter the elements separated by space: 3 4 9 1 6\n",
            "1\n"
          ]
        }
      ]
    },
    {
      "cell_type": "code",
      "source": [
        "def check_discount_eligibility(ticket_numbers, date):\n",
        "    eligibility = []\n",
        "    for num in ticket_numbers:\n",
        "        if num % date == 0:\n",
        "            eligibility.append(1)\n",
        "        else:\n",
        "            eligibility.append(0)\n",
        "    return eligibility\n",
        "\n",
        "try:\n",
        "    n = int(input())\n",
        "    ticket_numbers = list(map(int, input().split()))\n",
        "    if len(ticket_numbers) != n:\n",
        "        raise ValueError()\n",
        "    date = int(input())\n",
        "    result = check_discount_eligibility(ticket_numbers, date)\n",
        "    print(*result)\n",
        "except ValueError:\n",
        "    print()\n"
      ],
      "metadata": {
        "colab": {
          "base_uri": "https://localhost:8080/"
        },
        "id": "L0TIm6AHGs6P",
        "outputId": "b4840bae-8c36-4835-dd20-dc3faf9a25fc"
      },
      "execution_count": null,
      "outputs": [
        {
          "output_type": "stream",
          "name": "stdout",
          "text": [
            "Enter the number of tickets: 6\n",
            "Enter the ticket numbers separated by space: 112 139 165 175 262 130\n",
            "Enter the date of the month: 22\n",
            "0 0 0 0 0 0\n"
          ]
        }
      ]
    },
    {
      "cell_type": "code",
      "source": [
        "def is_perfect_square(n):\n",
        "    sqrt_n = int(n ** 0.5)\n",
        "    return sqrt_n * sqrt_n == n\n",
        "\n",
        "try:\n",
        "    n, m = map(int, input().split())\n",
        "    product = n * m\n",
        "    if is_perfect_square(product):\n",
        "        print(\"yes\")\n",
        "    else:\n",
        "        print(\"no\")\n",
        "except ValueError:\n",
        "    print()\n"
      ],
      "metadata": {
        "colab": {
          "base_uri": "https://localhost:8080/"
        },
        "id": "Yx815FaSHQbP",
        "outputId": "9297d7a0-940d-43cc-b055-d75f4339a345"
      },
      "execution_count": null,
      "outputs": [
        {
          "output_type": "stream",
          "name": "stdout",
          "text": [
            "5 5\n",
            "yes\n"
          ]
        }
      ]
    },
    {
      "cell_type": "code",
      "source": [
        "def find_next_greater_power_of_2(n):\n",
        "    msb_position = 0\n",
        "    temp_n = n\n",
        "\n",
        "    # Find the position of the most significant bit\n",
        "    while temp_n > 0:\n",
        "        msb_position += 1\n",
        "        temp_n >>= 1\n",
        "\n",
        "    # Calculate the next immediate greater power of 2\n",
        "    return 1 << msb_position\n",
        "\n",
        "try:\n",
        "    n = int(input(\"Enter a number (N <= 1000): \"))\n",
        "    if n <= 0 or n > 1000:\n",
        "        raise ValueError()\n",
        "    result = find_next_greater_power_of_2(n)\n",
        "    print(result)\n",
        "except ValueError:\n",
        "    print(\"Invalid input. Please enter a valid number (N <= 1000).\")\n"
      ],
      "metadata": {
        "colab": {
          "base_uri": "https://localhost:8080/"
        },
        "id": "SPbLRLzCHzfl",
        "outputId": "018fa959-c985-48d2-a536-ba971d861ed6"
      },
      "execution_count": null,
      "outputs": [
        {
          "output_type": "stream",
          "name": "stdout",
          "text": [
            "Enter a number (N <= 1000): 4\n",
            "8\n"
          ]
        }
      ]
    },
    {
      "cell_type": "code",
      "source": [
        "import math\n",
        "\n",
        "def is_composite(n):\n",
        "    if n <= 1:\n",
        "        return False\n",
        "\n",
        "    # Check if N has any divisors other than 1 and itself\n",
        "    for i in range(2, int(math.sqrt(n)) + 1):\n",
        "        if n % i == 0:\n",
        "            return True\n",
        "    return False\n",
        "\n",
        "try:\n",
        "    n = int(input())\n",
        "    result = is_composite(n)\n",
        "    if result:\n",
        "        print(\"yes\")\n",
        "    else:\n",
        "        print(\"no\")\n",
        "except ValueError:\n",
        "    print(\"Invalid input. Please enter a valid number.\")\n"
      ],
      "metadata": {
        "colab": {
          "base_uri": "https://localhost:8080/"
        },
        "id": "k5-P9cNbIooj",
        "outputId": "015aef29-91b4-4ad8-c451-98d274163351"
      },
      "execution_count": null,
      "outputs": [
        {
          "output_type": "stream",
          "name": "stdout",
          "text": [
            "123\n",
            "yes\n"
          ]
        }
      ]
    },
    {
      "cell_type": "code",
      "source": [
        "def calculate_engine_number(number_plate):\n",
        "    engine_number = 0\n",
        "    for char in number_plate:\n",
        "        if char.isdigit():\n",
        "            engine_number += int(char)\n",
        "    return engine_number\n",
        "\n",
        "try:\n",
        "    number_plate = input()\n",
        "    result = calculate_engine_number(number_plate)\n",
        "    print(result)\n",
        "except ValueError:\n",
        "    print(\"Invalid input. Please enter a valid car number plate.\")\n"
      ],
      "metadata": {
        "colab": {
          "base_uri": "https://localhost:8080/"
        },
        "id": "wM7TglHsQpwK",
        "outputId": "9b9b35bc-d3c7-4077-bc5a-30ee55a45d99"
      },
      "execution_count": null,
      "outputs": [
        {
          "output_type": "stream",
          "name": "stdout",
          "text": [
            "HR05-AA-2669\n",
            "28\n"
          ]
        }
      ]
    },
    {
      "cell_type": "code",
      "source": [
        "def sum_of_natural_numbers(k):\n",
        "    return (k * (k + 1)) // 2\n",
        "\n",
        "try:\n",
        "    k = int(input())\n",
        "    if k <= 0 or k > 100000:\n",
        "        raise ValueError()\n",
        "    result = sum_of_natural_numbers(k)\n",
        "    print(result)\n",
        "except ValueError:\n",
        "    print(\"Invalid input. Please enter a valid number (n <= 100000).\")\n"
      ],
      "metadata": {
        "colab": {
          "base_uri": "https://localhost:8080/"
        },
        "id": "Ik36iK5YR-uc",
        "outputId": "31dcdc39-6a4f-465d-9bdf-3fe7f855c650"
      },
      "execution_count": null,
      "outputs": [
        {
          "output_type": "stream",
          "name": "stdout",
          "text": [
            "3\n",
            "6\n"
          ]
        }
      ]
    },
    {
      "cell_type": "code",
      "source": [
        "def check_even_odd_difference(n, m):\n",
        "    difference = n - m\n",
        "    if difference % 2 == 0:\n",
        "        return \"even\"\n",
        "    else:\n",
        "        return \"odd\"\n",
        "\n",
        "try:\n",
        "    n, m = map(int, input().split())\n",
        "    result = check_even_odd_difference(n, m)\n",
        "    print(result)\n",
        "except ValueError:\n",
        "    print(\"Invalid input. Please enter two valid integers separated by space.\")"
      ],
      "metadata": {
        "colab": {
          "base_uri": "https://localhost:8080/"
        },
        "id": "RGDveW15SZsJ",
        "outputId": "f4a13843-6dd4-4971-c2f2-b6a4ef4f6ec1"
      },
      "execution_count": null,
      "outputs": [
        {
          "output_type": "stream",
          "name": "stdout",
          "text": [
            "5 5\n",
            "even\n"
          ]
        }
      ]
    },
    {
      "cell_type": "code",
      "source": [
        "def find_nth_number(n):\n",
        "    return n * (n + 1)\n",
        "\n",
        "try:\n",
        "    n = int(input())\n",
        "    result = find_nth_number(n)\n",
        "    print(result)\n",
        "except ValueError:\n",
        "    print(\"Invalid input. Please enter a valid number.\")\n"
      ],
      "metadata": {
        "colab": {
          "base_uri": "https://localhost:8080/"
        },
        "id": "bCGnw0N1Ss7c",
        "outputId": "d498667c-039a-4e1d-f33d-bb1ab0b8cd8f"
      },
      "execution_count": null,
      "outputs": [
        {
          "output_type": "stream",
          "name": "stdout",
          "text": [
            "Enter a number: 5\n",
            "30\n"
          ]
        }
      ]
    },
    {
      "cell_type": "code",
      "source": [
        "def max_consecutive_ones(number):\n",
        "    max_count = 0\n",
        "    current_count = 0\n",
        "\n",
        "    for digit in number:\n",
        "        if digit == '1':\n",
        "            current_count += 1\n",
        "            max_count = max(max_count, current_count)\n",
        "        else:\n",
        "            current_count = 0\n",
        "\n",
        "    return max_count if max_count > 0 else -1\n",
        "\n",
        "# Taking input from the user\n",
        "n = input()\n",
        "result = max_consecutive_ones(n)\n",
        "print(result)\n"
      ],
      "metadata": {
        "id": "uVU8vj6HTa7v",
        "colab": {
          "base_uri": "https://localhost:8080/"
        },
        "outputId": "169d2324-7dea-499b-984b-0df35b48482e"
      },
      "execution_count": null,
      "outputs": [
        {
          "output_type": "stream",
          "name": "stdout",
          "text": [
            "101011111\n",
            "5\n"
          ]
        }
      ]
    },
    {
      "cell_type": "code",
      "source": [
        "def is_true_string(s):\n",
        "    vowels = \"aeiou\"\n",
        "    weight = 0\n",
        "\n",
        "    for char in s:\n",
        "        if char in vowels:\n",
        "            weight += ord(char)\n",
        "\n",
        "    return 1 if weight % 8 == 0 else 0\n",
        "\n",
        "# Taking input from the user\n",
        "input_string = input()\n",
        "result = is_true_string(input_string)\n",
        "print(\"1\" if result == 1 else \"0\")"
      ],
      "metadata": {
        "colab": {
          "base_uri": "https://localhost:8080/"
        },
        "id": "1XTZZRhlloAH",
        "outputId": "697caf73-b906-455e-9d6a-38dcb29dbc67"
      },
      "execution_count": null,
      "outputs": [
        {
          "output_type": "stream",
          "name": "stdout",
          "text": [
            "Enter the string in lowercase: raja\n",
            "0\n"
          ]
        }
      ]
    },
    {
      "cell_type": "code",
      "source": [],
      "metadata": {
        "id": "b-PMl4z_oEhn"
      },
      "execution_count": null,
      "outputs": []
    }
  ]
}