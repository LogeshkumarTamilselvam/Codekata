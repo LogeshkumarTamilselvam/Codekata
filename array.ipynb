{
  "nbformat": 4,
  "nbformat_minor": 0,
  "metadata": {
    "colab": {
      "provenance": [],
      "authorship_tag": "ABX9TyN2KVs9y/CtcB97RjiXdbeb",
      "include_colab_link": true
    },
    "kernelspec": {
      "name": "python3",
      "display_name": "Python 3"
    },
    "language_info": {
      "name": "python"
    }
  },
  "cells": [
    {
      "cell_type": "markdown",
      "metadata": {
        "id": "view-in-github",
        "colab_type": "text"
      },
      "source": [
        "<a href=\"https://colab.research.google.com/github/LogeshkumarTamilselvam/Codekata/blob/main/array.ipynb\" target=\"_parent\"><img src=\"https://colab.research.google.com/assets/colab-badge.svg\" alt=\"Open In Colab\"/></a>"
      ]
    },
    {
      "cell_type": "markdown",
      "source": [
        "#1"
      ],
      "metadata": {
        "id": "kXTTDsEz7Xh1"
      }
    },
    {
      "cell_type": "code",
      "execution_count": null,
      "metadata": {
        "colab": {
          "base_uri": "https://localhost:8080/"
        },
        "id": "nktzZttwx5PU",
        "outputId": "dfa15522-96a4-4001-ebcd-32d33c94a46c"
      },
      "outputs": [
        {
          "output_type": "stream",
          "name": "stdout",
          "text": [
            "7\n",
            "10 7 9 3 2 1 15\n",
            "-1 -1 7 -1 -1 -1 1\n"
          ]
        }
      ],
      "source": [
        "def find_next_smallest(arr):\n",
        "    result = []\n",
        "    \n",
        "    for i in range(len(arr)):\n",
        "        next_smallest = -1\n",
        "        \n",
        "        for j in range(i+1, len(arr)):\n",
        "            if arr[j] < arr[i]:\n",
        "                next_smallest = arr[j]\n",
        "                break\n",
        "        \n",
        "        result.append(next_smallest)\n",
        "    \n",
        "    return result\n",
        "\n",
        "\n",
        "# Reading input\n",
        "n = int(input())\n",
        "arr = list(map(int, input().split()))\n",
        "\n",
        "# Finding next smallest numbers\n",
        "output = find_next_smallest(arr)\n",
        "\n",
        "# Printing the output\n",
        "print(*output)\n"
      ]
    },
    {
      "cell_type": "markdown",
      "source": [
        "#2"
      ],
      "metadata": {
        "id": "SNbs749V7e5Z"
      }
    },
    {
      "cell_type": "code",
      "source": [
        "def is_beautiful_array(arr):\n",
        "    array_sum = sum(arr)\n",
        "    \n",
        "    if array_sum % 2 == 0 and array_sum % 3 == 0 and array_sum % 5 == 0:\n",
        "        return 1\n",
        "    else:\n",
        "        return 0\n",
        "\n",
        "\n",
        "# Reading input\n",
        "n = int(input())\n",
        "arr = list(map(int, input().split()))\n",
        "\n",
        "# Checking if array is beautiful\n",
        "output = is_beautiful_array(arr)\n",
        "\n",
        "# Printing the output\n",
        "print(output)\n"
      ],
      "metadata": {
        "colab": {
          "base_uri": "https://localhost:8080/"
        },
        "id": "LtYeHzUrx_Ez",
        "outputId": "6d15d58c-4711-4ee6-ee93-386edd8eb427"
      },
      "execution_count": null,
      "outputs": [
        {
          "output_type": "stream",
          "name": "stdout",
          "text": [
            "7\n",
            "10 7 9 3 2 1 15\n",
            "-1 -1 7 -1 -1 -1 1\n"
          ]
        }
      ]
    },
    {
      "cell_type": "markdown",
      "source": [
        "#3"
      ],
      "metadata": {
        "id": "g4O4rQkr7nM_"
      }
    },
    {
      "cell_type": "code",
      "source": [
        "def compute_trapped_air(arr):\n",
        "    n = len(arr)\n",
        "    left_max = [0] * n\n",
        "    right_max = [0] * n\n",
        "    \n",
        "    # Calculate the maximum heights on the left side of each element\n",
        "    left_max[0] = arr[0]\n",
        "    for i in range(1, n):\n",
        "        left_max[i] = max(left_max[i-1], arr[i])\n",
        "    \n",
        "    # Calculate the maximum heights on the right side of each element\n",
        "    right_max[n-1] = arr[n-1]\n",
        "    for i in range(n-2, -1, -1):\n",
        "        right_max[i] = max(right_max[i+1], arr[i])\n",
        "    \n",
        "    # Compute the trapped air\n",
        "    trapped_air = 0\n",
        "    for i in range(n):\n",
        "        trapped_air += min(left_max[i], right_max[i]) - arr[i]\n",
        "    \n",
        "    return trapped_air\n",
        "\n",
        "\n",
        "# Reading input\n",
        "n = int(input())\n",
        "arr = list(map(int, input().split()))\n",
        "\n",
        "# Computing trapped air\n",
        "output = compute_trapped_air(arr)\n",
        "\n",
        "# Printing the output\n",
        "print(output)\n"
      ],
      "metadata": {
        "id": "Zkl8L78r7lpa"
      },
      "execution_count": null,
      "outputs": []
    },
    {
      "cell_type": "markdown",
      "source": [
        "#4"
      ],
      "metadata": {
        "id": "ndioNt-B7KnB"
      }
    },
    {
      "cell_type": "code",
      "source": [
        "def calculate_difference(arr, k):\n",
        "    n = len(arr)\n",
        "    result = []\n",
        "    \n",
        "    for i in range(n):\n",
        "        diff = abs(arr[i] - arr[(i+1) % n])\n",
        "        if diff > k:\n",
        "            result.append(1)\n",
        "        else:\n",
        "            result.append(0)\n",
        "    \n",
        "    return result\n",
        "\n",
        "\n",
        "# Reading input\n",
        "n, k = map(int, input().split())\n",
        "arr = list(map(int, input().split()))\n",
        "\n",
        "# Calculating the difference and checking if it's greater than k\n",
        "output = calculate_difference(arr, k)\n",
        "\n",
        "# Printing the output\n",
        "print(*output)"
      ],
      "metadata": {
        "colab": {
          "base_uri": "https://localhost:8080/"
        },
        "id": "NOKnx5cCzQDZ",
        "outputId": "0e0250d1-9d32-4568-c40e-7064639a9e29"
      },
      "execution_count": null,
      "outputs": [
        {
          "output_type": "stream",
          "name": "stdout",
          "text": [
            "5 15\n",
            "50 65 85 98 35\n",
            "0 1 0 1 0\n"
          ]
        }
      ]
    },
    {
      "cell_type": "markdown",
      "source": [
        "#5"
      ],
      "metadata": {
        "id": "L4Sw0hc08DO4"
      }
    },
    {
      "cell_type": "code",
      "source": [
        "# Reading input\n",
        "n = int(input())\n",
        "passport_list = input().split()\n",
        "\n",
        "# Removing duplicates while maintaining order\n",
        "unique_passports = []\n",
        "seen = set()\n",
        "\n",
        "for passport in passport_list:\n",
        "    if passport not in seen:\n",
        "        unique_passports.append(passport)\n",
        "        seen.add(passport)\n",
        "\n",
        "# Printing the output\n",
        "print(*unique_passports)\n"
      ],
      "metadata": {
        "colab": {
          "base_uri": "https://localhost:8080/"
        },
        "id": "Kue4DpNPzfOj",
        "outputId": "892c4f32-37fe-44d5-d9c0-4beedc041890"
      },
      "execution_count": null,
      "outputs": [
        {
          "output_type": "stream",
          "name": "stdout",
          "text": [
            "5\n",
            "A23 B56 B56 C79 D16\n",
            "A23 C79 D16 B56\n"
          ]
        }
      ]
    },
    {
      "cell_type": "code",
      "source": [],
      "metadata": {
        "id": "DVl78f1I8FIi"
      },
      "execution_count": null,
      "outputs": []
    }
  ]
}